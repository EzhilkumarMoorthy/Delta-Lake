{
 "cells": [
  {
   "cell_type": "markdown",
   "metadata": {},
   "source": [
    "# Delta Lake - Part1\n",
    "This notebook covers Read, Write, Adding column, Adding Row, Conditional Delete, Conditional update, Upsert, Time Travel and History"
   ]
  },
  {
   "cell_type": "markdown",
   "metadata": {},
   "source": [
    "## Adding delta jar in Jupyter"
   ]
  },
  {
   "cell_type": "code",
   "execution_count": 55,
   "metadata": {},
   "outputs": [
    {
     "name": "stdout",
     "output_type": "stream",
     "text": [
      "Using cached version of delta-core_2.11-0.4.0.jar\n"
     ]
    }
   ],
   "source": [
    "%AddJar https://repo1.maven.org/maven2/io/delta/delta-core_2.11/0.4.0/delta-core_2.11-0.4.0.jar\n"
   ]
  },
  {
   "cell_type": "code",
   "execution_count": 56,
   "metadata": {},
   "outputs": [
    {
     "data": {
      "text/plain": [
       "deltaPath = /home/jovyan/Ezhil/data/deltalake/\n"
      ]
     },
     "metadata": {},
     "output_type": "display_data"
    },
    {
     "data": {
      "text/plain": [
       "/home/jovyan/Ezhil/data/deltalake/"
      ]
     },
     "execution_count": 56,
     "metadata": {},
     "output_type": "execute_result"
    }
   ],
   "source": [
    "val deltaPath = \"/home/jovyan/Ezhil/data/deltalake/\""
   ]
  },
  {
   "cell_type": "markdown",
   "metadata": {},
   "source": [
    "## Reading CSV file"
   ]
  },
  {
   "cell_type": "code",
   "execution_count": 57,
   "metadata": {},
   "outputs": [
    {
     "name": "stdout",
     "output_type": "stream",
     "text": [
      "Count is 100\n",
      "root\n",
      " |-- Region: string (nullable = true)\n",
      " |-- Country: string (nullable = true)\n",
      " |-- Item_Type: string (nullable = true)\n",
      " |-- Sales_Channel: string (nullable = true)\n",
      " |-- Order_Priority: string (nullable = true)\n",
      " |-- Order_Date: string (nullable = true)\n",
      " |-- Order_ID: integer (nullable = true)\n",
      " |-- Ship_Date: string (nullable = true)\n",
      " |-- Units_Sold: integer (nullable = true)\n",
      " |-- Unit_Price: double (nullable = true)\n",
      " |-- Unit_Cost: double (nullable = true)\n",
      " |-- Total_Revenue: double (nullable = true)\n",
      " |-- Total_Cost: double (nullable = true)\n",
      " |-- Total_Profit: double (nullable = true)\n",
      "\n"
     ]
    },
    {
     "data": {
      "text/plain": [
       "salesRecordDf = [Region: string, Country: string ... 12 more fields]\n"
      ]
     },
     "metadata": {},
     "output_type": "display_data"
    },
    {
     "data": {
      "text/plain": [
       "[Region: string, Country: string ... 12 more fields]"
      ]
     },
     "execution_count": 57,
     "metadata": {},
     "output_type": "execute_result"
    }
   ],
   "source": [
    "val salesRecordDf = spark.read.format(\"csv\").option(\"header\",\"true\").option(\"inferSchema\",\"true\").load(\"100SalesRecords.csv\")\n",
    "println(\"Count is \"+ salesRecordDf.count())\n",
    "salesRecordDf.printSchema"
   ]
  },
  {
   "cell_type": "markdown",
   "metadata": {},
   "source": [
    "## Reading and Writing Delta table"
   ]
  },
  {
   "cell_type": "code",
   "execution_count": 107,
   "metadata": {},
   "outputs": [
    {
     "data": {
      "text/plain": [
       "lastException: Throwable = null\n",
       "writeDeltaTable: (df: org.apache.spark.sql.DataFrame, tableName: String, saveMode: org.apache.spark.sql.SaveMode)Unit\n",
       "readDeltaTable: (tableName: String)org.apache.spark.sql.DataFrame\n"
      ]
     },
     "metadata": {},
     "output_type": "display_data"
    }
   ],
   "source": [
    "import org.apache.spark.sql.functions._ \n",
    "import org.apache.spark.sql.{SaveMode, SparkSession, DataFrame}\n",
    "\n",
    "def writeDeltaTable(df: DataFrame, tableName: String,saveMode: SaveMode): Unit = {\n",
    "    df\n",
    "      .write\n",
    "      .format(\"delta\")\n",
    "      .mode(saveMode)\n",
    "      .option(\"mergeSchema\", \"true\")\n",
    "      .save(deltaPath + tableName)\n",
    "  }\n",
    "\n",
    "def readDeltaTable(tableName: String): DataFrame = {\n",
    "   val deltaDf = spark\n",
    "      .read\n",
    "      .format(\"delta\")\n",
    "      .load(deltaPath + tableName)\n",
    "     deltaDf\n",
    "  }"
   ]
  },
  {
   "cell_type": "code",
   "execution_count": 60,
   "metadata": {},
   "outputs": [],
   "source": [
    "writeDeltaTable(df,\"sales_order\",SaveMode.Overwrite)"
   ]
  },
  {
   "cell_type": "code",
   "execution_count": 61,
   "metadata": {},
   "outputs": [
    {
     "name": "stdout",
     "output_type": "stream",
     "text": [
      "Delta count for sales order 100+--------------------+--------------------+---------------+-------------+--------------+----------+---------+---------+----------+----------+---------+-------------+----------+------------+\n",
      "|              Region|             Country|      Item_Type|Sales_Channel|Order_Priority|Order_Date| Order_ID|Ship_Date|Units_Sold|Unit_Price|Unit_Cost|Total_Revenue|Total_Cost|Total_Profit|\n",
      "+--------------------+--------------------+---------------+-------------+--------------+----------+---------+---------+----------+----------+---------+-------------+----------+------------+\n",
      "|Australia and Oce...|              Tuvalu|      Baby Food|      Offline|             H| 5/28/2010|669165933|6/27/2010|      9925|    255.28|   159.42|    2533654.0| 1582243.5|    951410.5|\n",
      "|Central America a...|             Grenada|         Cereal|       Online|             C| 8/22/2012|963881480|9/15/2012|      2804|     205.7|   117.11|     576782.8| 328376.44|   248406.36|\n",
      "|              Europe|              Russia|Office Supplies|      Offline|             L|  5/2/2014|341417157| 5/8/2014|      1779|    651.21|   524.96|   1158502.59| 933903.84|   224598.75|\n",
      "|  Sub-Saharan Africa|Sao Tome and Prin...|         Fruits|       Online|             C| 6/20/2014|514321792| 7/5/2014|      8102|      9.33|     6.92|     75591.66|  56065.84|    19525.82|\n",
      "|  Sub-Saharan Africa|              Rwanda|Office Supplies|      Offline|             L|  2/1/2013|115456712| 2/6/2013|      5062|    651.21|   524.96|   3296425.02|2657347.52|    639077.5|\n",
      "+--------------------+--------------------+---------------+-------------+--------------+----------+---------+---------+----------+----------+---------+-------------+----------+------------+\n",
      "only showing top 5 rows\n",
      "\n"
     ]
    },
    {
     "data": {
      "text/plain": [
       "salesOrderDf = [Region: string, Country: string ... 12 more fields]\n"
      ]
     },
     "metadata": {},
     "output_type": "display_data"
    },
    {
     "data": {
      "text/plain": [
       "[Region: string, Country: string ... 12 more fields]"
      ]
     },
     "execution_count": 61,
     "metadata": {},
     "output_type": "execute_result"
    }
   ],
   "source": [
    "val salesOrderDf = readDeltaTable(\"sales_order\")\n",
    "print(\"Delta count for sales order \" + salesOrderDf.count())\n",
    "salesOrderDf.show(5)"
   ]
  },
  {
   "cell_type": "markdown",
   "metadata": {},
   "source": [
    "## Adding new column to existing Delta table"
   ]
  },
  {
   "cell_type": "code",
   "execution_count": 64,
   "metadata": {},
   "outputs": [
    {
     "data": {
      "text/plain": [
       "addColumn: (data: org.apache.spark.sql.DataFrame, tableName: String)Unit\n"
      ]
     },
     "metadata": {},
     "output_type": "display_data"
    }
   ],
   "source": [
    "def addColumn(data: DataFrame,tableName: String): Unit = {\n",
    "  data\n",
    "      .write\n",
    "      .format(\"delta\")\n",
    "      .mode(\"append\")\n",
    "      .option(\"mergeSchema\", \"true\")\n",
    "      .save(deltaPath + tableName)\n",
    "  }"
   ]
  },
  {
   "cell_type": "code",
   "execution_count": 69,
   "metadata": {},
   "outputs": [
    {
     "data": {
      "text/plain": [
       "newSalesOrderDf = [Region: string, Country: string ... 13 more fields]\n"
      ]
     },
     "metadata": {},
     "output_type": "display_data"
    },
    {
     "data": {
      "text/plain": [
       "[Region: string, Country: string ... 13 more fields]"
      ]
     },
     "execution_count": 69,
     "metadata": {},
     "output_type": "execute_result"
    }
   ],
   "source": [
    "import org.apache.spark.sql.functions._\n",
    "val newSalesOrderDf = salesOrderDf.withColumn(\"create_time\",lit(current_timestamp()))"
   ]
  },
  {
   "cell_type": "code",
   "execution_count": 72,
   "metadata": {},
   "outputs": [
    {
     "name": "stdout",
     "output_type": "stream",
     "text": [
      "100\n",
      "+---------------------------------+---------------------+---------------+-------------+--------------+----------+---------+---------+----------+----------+---------+-------------+----------+------------+-----------------------+\n",
      "|Region                           |Country              |Item_Type      |Sales_Channel|Order_Priority|Order_Date|Order_ID |Ship_Date|Units_Sold|Unit_Price|Unit_Cost|Total_Revenue|Total_Cost|Total_Profit|create_time            |\n",
      "+---------------------------------+---------------------+---------------+-------------+--------------+----------+---------+---------+----------+----------+---------+-------------+----------+------------+-----------------------+\n",
      "|Australia and Oceania            |Tuvalu               |Baby Food      |Offline      |H             |5/28/2010 |669165933|6/27/2010|9925      |255.28    |159.42   |2533654.0    |1582243.5 |951410.5    |2019-11-15 10:43:58.421|\n",
      "|Central America and the Caribbean|Grenada              |Cereal         |Online       |C             |8/22/2012 |963881480|9/15/2012|2804      |205.7     |117.11   |576782.8     |328376.44 |248406.36   |2019-11-15 10:43:58.421|\n",
      "|Europe                           |Russia               |Office Supplies|Offline      |L             |5/2/2014  |341417157|5/8/2014 |1779      |651.21    |524.96   |1158502.59   |933903.84 |224598.75   |2019-11-15 10:43:58.421|\n",
      "|Sub-Saharan Africa               |Sao Tome and Principe|Fruits         |Online       |C             |6/20/2014 |514321792|7/5/2014 |8102      |9.33      |6.92     |75591.66     |56065.84  |19525.82    |2019-11-15 10:43:58.421|\n",
      "|Sub-Saharan Africa               |Rwanda               |Office Supplies|Offline      |L             |2/1/2013  |115456712|2/6/2013 |5062      |651.21    |524.96   |3296425.02   |2657347.52|639077.5    |2019-11-15 10:43:58.421|\n",
      "+---------------------------------+---------------------+---------------+-------------+--------------+----------+---------+---------+----------+----------+---------+-------------+----------+------------+-----------------------+\n",
      "only showing top 5 rows\n",
      "\n"
     ]
    }
   ],
   "source": [
    "println(newSalesOrderDf.count())\n",
    "newSalesOrderDf.show(5,false)"
   ]
  },
  {
   "cell_type": "markdown",
   "metadata": {},
   "source": [
    "## Adding new row in existing delta table"
   ]
  },
  {
   "cell_type": "code",
   "execution_count": 112,
   "metadata": {},
   "outputs": [
    {
     "name": "stdout",
     "output_type": "stream",
     "text": [
      "+------+-------+---------+-------------+--------------+----------+---------+----------+----------+----------+---------+-------------+----------+------------+-------------------+\n",
      "|Region|Country|Item_Type|Sales_Channel|Order_Priority|Order_Date| Order_ID| Ship_Date|Units_Sold|Unit_Price|Unit_Cost|Total_Revenue|Total_Cost|Total_Profit|        create_time|\n",
      "+------+-------+---------+-------------+--------------+----------+---------+----------+----------+----------+---------+-------------+----------+------------+-------------------+\n",
      "|  Asia|  India|  Alcohol|      Offline|             H|11/14/2019|779165933|11/14/2019|       100|     200.1|    150.1|      20010.0|   15010.0|      5000.0|2019-11-15 10:43:58|\n",
      "+------+-------+---------+-------------+--------------+----------+---------+----------+----------+----------+---------+-------------+----------+------------+-------------------+\n",
      "\n",
      "103\n",
      "+--------------------+--------------------+---------------+-------------+--------------+----------+---------+---------+----------+----------+---------+-------------+----------+------------+-----------+\n",
      "|              Region|             Country|      Item_Type|Sales_Channel|Order_Priority|Order_Date| Order_ID|Ship_Date|Units_Sold|Unit_Price|Unit_Cost|Total_Revenue|Total_Cost|Total_Profit|create_time|\n",
      "+--------------------+--------------------+---------------+-------------+--------------+----------+---------+---------+----------+----------+---------+-------------+----------+------------+-----------+\n",
      "|Australia and Oce...|              Tuvalu|      Baby Food|      Offline|             H| 5/28/2010|669165933|6/27/2010|      9925|    255.28|   159.42|    2533654.0| 1582243.5|    951410.5|       null|\n",
      "|Central America a...|             Grenada|         Cereal|       Online|             C| 8/22/2012|963881480|9/15/2012|      2804|     205.7|   117.11|     576782.8| 328376.44|   248406.36|       null|\n",
      "|              Europe|              Russia|Office Supplies|      Offline|             L|  5/2/2014|341417157| 5/8/2014|      1779|    651.21|   524.96|   1158502.59| 933903.84|   224598.75|       null|\n",
      "|  Sub-Saharan Africa|Sao Tome and Prin...|         Fruits|       Online|             C| 6/20/2014|514321792| 7/5/2014|      8102|      9.33|     6.92|     75591.66|  56065.84|    19525.82|       null|\n",
      "|  Sub-Saharan Africa|              Rwanda|Office Supplies|      Offline|             L|  2/1/2013|115456712| 2/6/2013|      5062|    651.21|   524.96|   3296425.02|2657347.52|    639077.5|       null|\n",
      "+--------------------+--------------------+---------------+-------------+--------------+----------+---------+---------+----------+----------+---------+-------------+----------+------------+-----------+\n",
      "only showing top 5 rows\n",
      "\n"
     ]
    },
    {
     "data": {
      "text/plain": [
       "sdf = java.text.SimpleDateFormat@cc43d9ee\n",
       "sdf1 = java.text.SimpleDateFormat@cc43d9ee\n",
       "create_time = 2019-11-15 10:43:58\n",
       "newRowDf = [Region: string, Country: string ... 13 more fields]\n",
       "updatedSalesOrderDf = [Region: string, Country: string ... 13 more fields]\n"
      ]
     },
     "metadata": {},
     "output_type": "display_data"
    },
    {
     "data": {
      "text/plain": [
       "[Region: string, Country: string ... 13 more fields]"
      ]
     },
     "execution_count": 112,
     "metadata": {},
     "output_type": "execute_result"
    }
   ],
   "source": [
    "import java.text.SimpleDateFormat\n",
    "val sdf = new SimpleDateFormat(\"yyyy-MM-dd' 'HH:mm:ss\")\n",
    "val sdf1 = new SimpleDateFormat(\"yyyy-MM-dd' 'HH:mm:ss\")\n",
    "val create_time = sdf1.format(sdf.parse(\"2019-11-15 10:43:58\"))\n",
    "\n",
    "val newRowDf = Seq((\"Asia\",\"India\",\"Alcohol\",\"Offline\",\"H\",\"11/14/2019\",779165933,\"11/14/2019\",100,200.10,150.10,20010.0,15010.0,5000.0,create_time))\n",
    ".toDF(\"Region\",\"Country\",\"Item_Type\",\"Sales_Channel\",\"Order_Priority\",\"Order_Date\",\"Order_ID\",\"Ship_Date\",\"Units_Sold\",\"Unit_Price\",\"Unit_Cost\",\"Total_Revenue\",\"Total_Cost\",\"Total_Profit\",\"create_time\")\n",
    "\n",
    "newRowDf.show()\n",
    "writeDeltaTable(newRowDf,\"sales_order\",SaveMode.Append)\n",
    "var updatedSalesOrderDf = readDeltaTable(\"sales_order\") \n",
    "println(updatedSalesOrderDf.count())\n",
    "updatedSalesOrderDf.show(5)\n"
   ]
  },
  {
   "cell_type": "code",
   "execution_count": 115,
   "metadata": {},
   "outputs": [
    {
     "name": "stdout",
     "output_type": "stream",
     "text": [
      "+------+-------+---------+-------------+--------------+----------+---------+----------+----------+----------+---------+-------------+----------+------------+-------------------+\n",
      "|Region|Country|Item_Type|Sales_Channel|Order_Priority|Order_Date| Order_ID| Ship_Date|Units_Sold|Unit_Price|Unit_Cost|Total_Revenue|Total_Cost|Total_Profit|        create_time|\n",
      "+------+-------+---------+-------------+--------------+----------+---------+----------+----------+----------+---------+-------------+----------+------------+-------------------+\n",
      "|  Asia|  India|  Alcohol|      Offline|             H|11/14/2019|779165933|11/14/2019|       100|     200.1|    150.1|      20010.0|   15010.0|      5000.0|2019-11-15 10:43:58|\n",
      "|  Asia|  India|  Alcohol|      Offline|             H|11/14/2019|779165933|11/14/2019|       100|     200.1|    150.1|      20010.0|   15010.0|      5000.0|2019-11-15 10:43:58|\n",
      "|  Asia|  India|  Alcohol|      Offline|             H|11/14/2019|779165933|11/14/2019|       100|     200.1|    150.1|      20010.0|   15010.0|      5000.0|2019-11-15 10:43:58|\n",
      "+------+-------+---------+-------------+--------------+----------+---------+----------+----------+----------+---------+-------------+----------+------------+-------------------+\n",
      "\n",
      "+------+-------+---------+-------------+--------------+----------+---------+----------+----------+----------+---------+-------------+----------+------------+-------------------+\n",
      "|Region|Country|Item_Type|Sales_Channel|Order_Priority|Order_Date| Order_ID| Ship_Date|Units_Sold|Unit_Price|Unit_Cost|Total_Revenue|Total_Cost|Total_Profit|        create_time|\n",
      "+------+-------+---------+-------------+--------------+----------+---------+----------+----------+----------+---------+-------------+----------+------------+-------------------+\n",
      "|  Asia|  India|  Alcohol|      Offline|             H|11/14/2019|779165933|11/14/2019|       100|     200.1|    150.1|      20010.0|   15010.0|      5000.0|2019-11-15 10:43:58|\n",
      "|  Asia|  India|  Alcohol|      Offline|             H|11/14/2019|779165933|11/14/2019|       100|     200.1|    150.1|      20010.0|   15010.0|      5000.0|2019-11-15 10:43:58|\n",
      "|  Asia|  India|  Alcohol|      Offline|             H|11/14/2019|779165933|11/14/2019|       100|     200.1|    150.1|      20010.0|   15010.0|      5000.0|2019-11-15 10:43:58|\n",
      "+------+-------+---------+-------------+--------------+----------+---------+----------+----------+----------+---------+-------------+----------+------------+-------------------+\n",
      "\n"
     ]
    }
   ],
   "source": [
    "/*Same records appended thrice, so count became 103*/\n",
    "updatedSalesOrderDf.filter(\"Region = 'Asia' and Country = 'India'\").show()\n",
    "updatedSalesOrderDf.filter(\"Country = 'India'\").show()"
   ]
  },
  {
   "cell_type": "markdown",
   "metadata": {},
   "source": [
    "## Conditional Update in Delta table (Without Overwrite, affects directly in delta table)"
   ]
  },
  {
   "cell_type": "code",
   "execution_count": 2,
   "metadata": {},
   "outputs": [
    {
     "data": {
      "text/plain": [
       "deltaTable = io.delta.tables.DeltaTable@7085a50f\n"
      ]
     },
     "metadata": {},
     "output_type": "display_data"
    },
    {
     "data": {
      "text/plain": [
       "io.delta.tables.DeltaTable@7085a50f"
      ]
     },
     "execution_count": 2,
     "metadata": {},
     "output_type": "execute_result"
    }
   ],
   "source": [
    "import io.delta.tables._\n",
    "import org.apache.spark.sql.functions._\n",
    "\n",
    "val deltaTable = DeltaTable.forPath(deltaPath + \"sales_order\")\n",
    "\n",
    "// Update Country India -> Pakistan\n",
    "// predicate and update expressions using SQL formatted string\n",
    "deltaTable.updateExpr(\n",
    "  \"Country = 'India'\",\n",
    "  Map(\"Country\" -> \"'Pakistan'\"))"
   ]
  },
  {
   "cell_type": "code",
   "execution_count": 5,
   "metadata": {},
   "outputs": [
    {
     "name": "stdout",
     "output_type": "stream",
     "text": [
      "3\n",
      "+------+--------+---------+-------------+--------------+----------+---------+----------+----------+----------+---------+-------------+----------+------------+-------------------+\n",
      "|Region| Country|Item_Type|Sales_Channel|Order_Priority|Order_Date| Order_ID| Ship_Date|Units_Sold|Unit_Price|Unit_Cost|Total_Revenue|Total_Cost|Total_Profit|        create_time|\n",
      "+------+--------+---------+-------------+--------------+----------+---------+----------+----------+----------+---------+-------------+----------+------------+-------------------+\n",
      "|  Asia|Pakistan|  Alcohol|      Offline|             H|11/14/2019|779165933|11/14/2019|       100|     200.1|    150.1|      20010.0|   15010.0|      5000.0|2019-11-15 10:43:58|\n",
      "|  Asia|Pakistan|  Alcohol|      Offline|             H|11/14/2019|779165933|11/14/2019|       100|     200.1|    150.1|      20010.0|   15010.0|      5000.0|2019-11-15 10:43:58|\n",
      "|  Asia|Pakistan|  Alcohol|      Offline|             H|11/14/2019|779165933|11/14/2019|       100|     200.1|    150.1|      20010.0|   15010.0|      5000.0|2019-11-15 10:43:58|\n",
      "+------+--------+---------+-------------+--------------+----------+---------+----------+----------+----------+---------+-------------+----------+------------+-------------------+\n",
      "\n"
     ]
    },
    {
     "data": {
      "text/plain": [
       "updatedSalesOrderDf = [Region: string, Country: string ... 13 more fields]\n"
      ]
     },
     "metadata": {},
     "output_type": "display_data"
    },
    {
     "data": {
      "text/plain": [
       "[Region: string, Country: string ... 13 more fields]"
      ]
     },
     "execution_count": 5,
     "metadata": {},
     "output_type": "execute_result"
    }
   ],
   "source": [
    "updatedSalesOrderDf = readDeltaTable(\"sales_order\") \n",
    "println(updatedSalesOrderDf.filter(\"Region= 'Asia' and Country = 'Pakistan'\").count())\n",
    "updatedSalesOrderDf.filter(\"Region= 'Asia' and Country = 'Pakistan'\").show()"
   ]
  },
  {
   "cell_type": "code",
   "execution_count": 6,
   "metadata": {},
   "outputs": [],
   "source": [
    "// Update Country Pakistan -> India\n",
    "// predicate using Spark SQL functions and implicits\n",
    "deltaTable.update(                \n",
    "  expr(\" Region= 'Asia' and Country = 'Pakistan' \"),\n",
    "  Map(\"Country\" -> lit(\"India\")))"
   ]
  },
  {
   "cell_type": "code",
   "execution_count": 7,
   "metadata": {},
   "outputs": [
    {
     "name": "stdout",
     "output_type": "stream",
     "text": [
      "0\n",
      "+------+-------+---------+-------------+--------------+----------+--------+---------+----------+----------+---------+-------------+----------+------------+-----------+\n",
      "|Region|Country|Item_Type|Sales_Channel|Order_Priority|Order_Date|Order_ID|Ship_Date|Units_Sold|Unit_Price|Unit_Cost|Total_Revenue|Total_Cost|Total_Profit|create_time|\n",
      "+------+-------+---------+-------------+--------------+----------+--------+---------+----------+----------+---------+-------------+----------+------------+-----------+\n",
      "+------+-------+---------+-------------+--------------+----------+--------+---------+----------+----------+---------+-------------+----------+------------+-----------+\n",
      "\n"
     ]
    }
   ],
   "source": [
    "println(updatedSalesOrderDf.filter(\"Region= 'Asia' and Country = 'Pakistan'\").count())\n",
    "updatedSalesOrderDf.filter(\"Region= 'Asia' and Country = 'Pakistan'\").show()"
   ]
  },
  {
   "cell_type": "code",
   "execution_count": 14,
   "metadata": {},
   "outputs": [
    {
     "name": "stdout",
     "output_type": "stream",
     "text": [
      "3\n",
      "+------+-------+---------+-------------+--------------+----------+---------+----------+----------+----------+---------+-------------+------------------+------------+-------------------+\n",
      "|Region|Country|Item_Type|Sales_Channel|Order_Priority|Order_Date| Order_ID| Ship_Date|Units_Sold|Unit_Price|Unit_Cost|Total_Revenue|        Total_Cost|Total_Profit|        create_time|\n",
      "+------+-------+---------+-------------+--------------+----------+---------+----------+----------+----------+---------+-------------+------------------+------------+-------------------+\n",
      "|  Asia|  India|  Alcohol|      Offline|             H|11/14/2019|779165933|11/14/2019|       101|     200.1|    150.1|      20210.1|15160.099999999999|      5000.0|2019-11-15 10:43:58|\n",
      "|  Asia|  India|  Alcohol|      Offline|             H|11/14/2019|779165933|11/14/2019|       101|     200.1|    150.1|      20210.1|15160.099999999999|      5000.0|2019-11-15 10:43:58|\n",
      "|  Asia|  India|  Alcohol|      Offline|             H|11/14/2019|779165933|11/14/2019|       101|     200.1|    150.1|      20210.1|15160.099999999999|      5000.0|2019-11-15 10:43:58|\n",
      "+------+-------+---------+-------------+--------------+----------+---------+----------+----------+----------+---------+-------------+------------------+------------+-------------------+\n",
      "\n"
     ]
    }
   ],
   "source": [
    "println(updatedSalesOrderDf.filter(\"Region= 'Asia' and Country = 'India'\").count())\n",
    "updatedSalesOrderDf.filter(\"Region= 'Asia' and Country = 'India'\").show()"
   ]
  },
  {
   "cell_type": "code",
   "execution_count": 18,
   "metadata": {},
   "outputs": [],
   "source": [
    "/*Update unit sold to 101 if the country is India and Region is Asia*/\n",
    "deltaTable.update(                \n",
    "  expr(\" Region= 'Asia' and Country = 'India' \"),\n",
    "  Map(\"Units_Sold\" -> lit(101)))"
   ]
  },
  {
   "cell_type": "code",
   "execution_count": 19,
   "metadata": {},
   "outputs": [],
   "source": [
    "/*Increment unit sold by 1 if the country is India and Region is Asia*/\n",
    "deltaTable.update(                \n",
    "  expr(\" Region= 'Asia' and Country = 'India' \"),\n",
    "  Map(\"Units_Sold\" -> expr(\"Units_Sold + 4\")))"
   ]
  },
  {
   "cell_type": "code",
   "execution_count": 20,
   "metadata": {},
   "outputs": [
    {
     "name": "stdout",
     "output_type": "stream",
     "text": [
      "3\n",
      "+------+-------+---------+-------------+--------------+----------+---------+----------+----------+----------+---------+-------------+------------------+------------+-------------------+\n",
      "|Region|Country|Item_Type|Sales_Channel|Order_Priority|Order_Date| Order_ID| Ship_Date|Units_Sold|Unit_Price|Unit_Cost|Total_Revenue|        Total_Cost|Total_Profit|        create_time|\n",
      "+------+-------+---------+-------------+--------------+----------+---------+----------+----------+----------+---------+-------------+------------------+------------+-------------------+\n",
      "|  Asia|  India|  Alcohol|      Offline|             H|11/14/2019|779165933|11/14/2019|       105|     200.1|    150.1|      20210.1|15160.099999999999|      5000.0|2019-11-15 10:43:58|\n",
      "|  Asia|  India|  Alcohol|      Offline|             H|11/14/2019|779165933|11/14/2019|       105|     200.1|    150.1|      20210.1|15160.099999999999|      5000.0|2019-11-15 10:43:58|\n",
      "|  Asia|  India|  Alcohol|      Offline|             H|11/14/2019|779165933|11/14/2019|       105|     200.1|    150.1|      20210.1|15160.099999999999|      5000.0|2019-11-15 10:43:58|\n",
      "+------+-------+---------+-------------+--------------+----------+---------+----------+----------+----------+---------+-------------+------------------+------------+-------------------+\n",
      "\n"
     ]
    }
   ],
   "source": [
    "println(updatedSalesOrderDf.filter(\"Region= 'Asia' and Country = 'India'\").count())\n",
    "updatedSalesOrderDf.filter(\"Region= 'Asia' and Country = 'India'\").show()"
   ]
  },
  {
   "cell_type": "code",
   "execution_count": 21,
   "metadata": {},
   "outputs": [],
   "source": [
    "/*Complex conditional update*/\n",
    "/**\n",
    "Delta is not supporting mutiple column update at same time if it's dependent on each other. \n",
    "Example : Here Total_Revenue and Total_Cost is dependent on Units_Sold. If you want to change Units_Sold, \n",
    "then in single update we can't update Units_Sold, Total_Revenue and Total_Cost as Units_Sold value refers old value.\n",
    "In order to achieve this correctly, first need to update Units_Sold then we need to calculate Total_Revenue and Total_Cost.\n",
    "**/\n",
    "deltaTable.update(                \n",
    "  expr(\" Region= 'Asia' and Country = 'India' \"),\n",
    "  Map(\"Total_Revenue\" -> expr(\"Units_Sold * Unit_Price\")\n",
    "     ,\"Total_Cost\" -> expr(\"Units_Sold * Unit_Cost\")))"
   ]
  },
  {
   "cell_type": "code",
   "execution_count": 22,
   "metadata": {},
   "outputs": [
    {
     "name": "stdout",
     "output_type": "stream",
     "text": [
      "3\n",
      "+------+-------+---------+-------------+--------------+----------+---------+----------+----------+----------+---------+-------------+----------+------------+-------------------+\n",
      "|Region|Country|Item_Type|Sales_Channel|Order_Priority|Order_Date| Order_ID| Ship_Date|Units_Sold|Unit_Price|Unit_Cost|Total_Revenue|Total_Cost|Total_Profit|        create_time|\n",
      "+------+-------+---------+-------------+--------------+----------+---------+----------+----------+----------+---------+-------------+----------+------------+-------------------+\n",
      "|  Asia|  India|  Alcohol|      Offline|             H|11/14/2019|779165933|11/14/2019|       105|     200.1|    150.1|      21010.5|   15760.5|      5000.0|2019-11-15 10:43:58|\n",
      "|  Asia|  India|  Alcohol|      Offline|             H|11/14/2019|779165933|11/14/2019|       105|     200.1|    150.1|      21010.5|   15760.5|      5000.0|2019-11-15 10:43:58|\n",
      "|  Asia|  India|  Alcohol|      Offline|             H|11/14/2019|779165933|11/14/2019|       105|     200.1|    150.1|      21010.5|   15760.5|      5000.0|2019-11-15 10:43:58|\n",
      "+------+-------+---------+-------------+--------------+----------+---------+----------+----------+----------+---------+-------------+----------+------------+-------------------+\n",
      "\n"
     ]
    }
   ],
   "source": [
    "println(updatedSalesOrderDf.filter(\"Region= 'Asia' and Country = 'India'\").count())\n",
    "updatedSalesOrderDf.filter(\"Region= 'Asia' and Country = 'India'\").show()"
   ]
  },
  {
   "cell_type": "markdown",
   "metadata": {},
   "source": [
    "## Conditional delete in Delta table"
   ]
  },
  {
   "cell_type": "code",
   "execution_count": 23,
   "metadata": {},
   "outputs": [],
   "source": [
    "/*Delete if the country is India and Region is Asia*/\n",
    "deltaTable.delete(condition = expr(\" Region= 'Asia' and Country = 'India' \"))"
   ]
  },
  {
   "cell_type": "code",
   "execution_count": 25,
   "metadata": {},
   "outputs": [
    {
     "name": "stdout",
     "output_type": "stream",
     "text": [
      "0\n",
      "Total count is 100\n",
      "+------+-------+---------+-------------+--------------+----------+--------+---------+----------+----------+---------+-------------+----------+------------+-----------+\n",
      "|Region|Country|Item_Type|Sales_Channel|Order_Priority|Order_Date|Order_ID|Ship_Date|Units_Sold|Unit_Price|Unit_Cost|Total_Revenue|Total_Cost|Total_Profit|create_time|\n",
      "+------+-------+---------+-------------+--------------+----------+--------+---------+----------+----------+---------+-------------+----------+------------+-----------+\n",
      "+------+-------+---------+-------------+--------------+----------+--------+---------+----------+----------+---------+-------------+----------+------------+-----------+\n",
      "\n"
     ]
    }
   ],
   "source": [
    "println(updatedSalesOrderDf.filter(\"Region= 'Asia' and Country = 'India'\").count())\n",
    "println(\"Total count is \"+updatedSalesOrderDf.count())\n",
    "updatedSalesOrderDf.filter(\"Region= 'Asia' and Country = 'India'\").show()"
   ]
  },
  {
   "cell_type": "markdown",
   "metadata": {},
   "source": [
    "## Upsert in Delta table (Insert + Update)"
   ]
  },
  {
   "cell_type": "code",
   "execution_count": 28,
   "metadata": {},
   "outputs": [
    {
     "data": {
      "text/plain": [
       "newData = [Region: string, Country: string ... 1 more field]\n"
      ]
     },
     "metadata": {},
     "output_type": "display_data"
    },
    {
     "data": {
      "text/plain": [
       "lastException: Throwable = null\n"
      ]
     },
     "metadata": {},
     "output_type": "display_data"
    },
    {
     "data": {
      "text/plain": [
       "[Region: string, Country: string ... 1 more field]"
      ]
     },
     "execution_count": 28,
     "metadata": {},
     "output_type": "execute_result"
    }
   ],
   "source": [
    "// Upsert (merge) new data\n",
    "/*Need to specify all the columns for insert*/\n",
    "val newData = Seq((\"Asia\",\"Sri Lanka\",\"H\"),(\"Asia\",\"India\",\"H\")).toDF(\"Region\",\"Country\",\"Order_Priority\")\n",
    "\n",
    "deltaTable.as(\"oldData\")\n",
    "  .merge(\n",
    "    newData.as(\"newData\"),\n",
    "    \"oldData.Region = newData.Region and oldData.Country = newData.Country\")\n",
    "  .whenMatched\n",
    "  .update(Map(\"Order_Priority\" -> col(\"newData.Order_Priority\")))\n",
    "  .whenNotMatched\n",
    "  .insert(Map(\"Region\" -> col(\"newData.Region\"), \n",
    "              \"Country\" -> col(\"newData.Country\"), \n",
    "              \"Order_Priority\" -> col(\"newData.Order_Priority\"),\n",
    "              \"Item_Type\" -> lit(\"\") , \n",
    "              \"Sales_Channel\" -> lit(\"\") , \n",
    "              \"Order_Date\" -> lit(\"\") , \n",
    "              \"Order_ID\" -> lit(0) , \n",
    "              \"Ship_Date\" -> lit(\"\") , \n",
    "              \"Units_Sold\" -> lit(0) , \n",
    "              \"Unit_Price\" -> lit(0) , \n",
    "              \"Unit_Cost\" -> lit(0),\n",
    "              \"Total_Revenue\" -> lit(0),\n",
    "              \"Total_Cost\" -> lit(0),\n",
    "              \"Total_Profit\" -> lit(0),\n",
    "              \"create_time\" -> lit(\"\"))).execute()\n"
   ]
  },
  {
   "cell_type": "code",
   "execution_count": 29,
   "metadata": {},
   "outputs": [
    {
     "name": "stdout",
     "output_type": "stream",
     "text": [
      "1\n",
      "Total count is 101\n",
      "+------+-------+---------+-------------+--------------+----------+--------+---------+----------+----------+---------+-------------+----------+------------+-----------+\n",
      "|Region|Country|Item_Type|Sales_Channel|Order_Priority|Order_Date|Order_ID|Ship_Date|Units_Sold|Unit_Price|Unit_Cost|Total_Revenue|Total_Cost|Total_Profit|create_time|\n",
      "+------+-------+---------+-------------+--------------+----------+--------+---------+----------+----------+---------+-------------+----------+------------+-----------+\n",
      "|  Asia|  India|         |             |             H|          |       0|         |         0|       0.0|      0.0|          0.0|       0.0|         0.0|           |\n",
      "+------+-------+---------+-------------+--------------+----------+--------+---------+----------+----------+---------+-------------+----------+------------+-----------+\n",
      "\n"
     ]
    }
   ],
   "source": [
    "println(updatedSalesOrderDf.filter(\"Region= 'Asia' and Country = 'India'\").count())\n",
    "println(\"Total count is \"+updatedSalesOrderDf.count())\n",
    "updatedSalesOrderDf.filter(\"Region= 'Asia' and Country = 'India'\").show()"
   ]
  },
  {
   "cell_type": "markdown",
   "metadata": {},
   "source": [
    "## Read older versions of data using Time Travel"
   ]
  },
  {
   "cell_type": "code",
   "execution_count": 31,
   "metadata": {},
   "outputs": [
    {
     "name": "stdout",
     "output_type": "stream",
     "text": [
      "103\n",
      "100\n"
     ]
    },
    {
     "data": {
      "text/plain": [
       "timestamp_string = 2019-11-18\n",
       "version = 2\n",
       "timeTravelByTimestamp = [Region: string, Country: string ... 13 more fields]\n",
       "timeTravelByVersion = [Region: string, Country: string ... 12 more fields]\n"
      ]
     },
     "metadata": {},
     "output_type": "display_data"
    },
    {
     "data": {
      "text/plain": [
       "[Region: string, Country: string ... 12 more fields]"
      ]
     },
     "execution_count": 31,
     "metadata": {},
     "output_type": "execute_result"
    }
   ],
   "source": [
    "val timestamp_string = \"2019-11-18\"\n",
    "val version = 2\n",
    "val timeTravelByTimestamp = spark.read.format(\"delta\").option(\"timestampAsOf\", timestamp_string).load(deltaPath + \"sales_order\")\n",
    "val timeTravelByVersion = spark.read.format(\"delta\").option(\"versionAsOf\", version).load(deltaPath + \"sales_order\")\n",
    "println(timeTravelByTimestamp.count())\n",
    "println(timeTravelByVersion.count())"
   ]
  },
  {
   "cell_type": "code",
   "execution_count": 38,
   "metadata": {},
   "outputs": [
    {
     "name": "stdout",
     "output_type": "stream",
     "text": [
      "+-------+-------------------+---------+--------------------+-----------+\n",
      "|version|          timestamp|operation| operationParameters|readVersion|\n",
      "+-------+-------------------+---------+--------------------+-----------+\n",
      "|     18|2019-11-18 11:56:11|    MERGE|[predicate -> ((o...|         17|\n",
      "|     17|2019-11-18 11:19:29|   DELETE|[predicate -> [\"(...|         16|\n",
      "|     16|2019-11-18 10:57:21|   UPDATE|[predicate -> ((R...|         15|\n",
      "|     15|2019-11-18 10:56:59|   UPDATE|[predicate -> ((R...|         14|\n",
      "|     14|2019-11-18 10:56:47|   UPDATE|[predicate -> ((R...|         13|\n",
      "|     13|2019-11-18 10:54:25|   UPDATE|[predicate -> ((R...|         12|\n",
      "|     12|2019-11-18 10:50:23|   UPDATE|[predicate -> ((R...|         11|\n",
      "|     11|2019-11-18 10:48:12|   UPDATE|[predicate -> ((R...|         10|\n",
      "|     10|2019-11-18 10:05:52|   UPDATE|[predicate -> ((R...|          9|\n",
      "|      9|2019-11-18 10:02:43|   UPDATE|[predicate -> (Co...|          8|\n",
      "|      8|2019-11-18 03:11:55|   UPDATE|[predicate -> ((C...|          7|\n",
      "|      7|2019-11-18 02:53:22|   UPDATE|[predicate -> (Co...|          6|\n",
      "|      6|2019-11-15 12:02:54|    WRITE|[mode -> Append, ...|          5|\n",
      "|      5|2019-11-15 11:48:21|    WRITE|[mode -> Append, ...|          4|\n",
      "|      4|2019-11-15 11:46:53|    WRITE|[mode -> Append, ...|          3|\n",
      "|      3|2019-11-15 10:37:08|    WRITE|[mode -> Overwrit...|          2|\n",
      "|      2|2019-11-15 10:36:54|    WRITE|[mode -> Overwrit...|          1|\n",
      "|      1|2019-11-15 10:06:17|    WRITE|[mode -> Overwrit...|          0|\n",
      "|      0|2019-11-15 07:38:09|    WRITE|[mode -> Overwrit...|       null|\n",
      "+-------+-------------------+---------+--------------------+-----------+\n",
      "\n"
     ]
    },
    {
     "data": {
      "text/plain": [
       "fullHistoryDF = [version: bigint, timestamp: timestamp ... 10 more fields]\n",
       "lastOperationDF = [version: bigint, timestamp: timestamp ... 10 more fields]\n"
      ]
     },
     "metadata": {},
     "output_type": "display_data"
    },
    {
     "data": {
      "text/plain": [
       "[version: bigint, timestamp: timestamp ... 10 more fields]"
      ]
     },
     "execution_count": 38,
     "metadata": {},
     "output_type": "execute_result"
    }
   ],
   "source": [
    "val fullHistoryDF = deltaTable.history()    // get the full history of the table\n",
    "\n",
    "val lastOperationDF = deltaTable.history(5) // get the last operation\n",
    "\n",
    "fullHistoryDF.select(\"version\",\"timestamp\",\"operation\",\"operationParameters\",\"readVersion\").show(20)"
   ]
  },
  {
   "cell_type": "code",
   "execution_count": 39,
   "metadata": {},
   "outputs": [
    {
     "name": "stdout",
     "output_type": "stream",
     "text": [
      "+-------+-------------------+---------+--------------------+-----------+\n",
      "|version|          timestamp|operation| operationParameters|readVersion|\n",
      "+-------+-------------------+---------+--------------------+-----------+\n",
      "|     18|2019-11-18 11:56:11|    MERGE|[predicate -> ((o...|         17|\n",
      "|     17|2019-11-18 11:19:29|   DELETE|[predicate -> [\"(...|         16|\n",
      "|     16|2019-11-18 10:57:21|   UPDATE|[predicate -> ((R...|         15|\n",
      "|     15|2019-11-18 10:56:59|   UPDATE|[predicate -> ((R...|         14|\n",
      "|     14|2019-11-18 10:56:47|   UPDATE|[predicate -> ((R...|         13|\n",
      "+-------+-------------------+---------+--------------------+-----------+\n",
      "\n"
     ]
    }
   ],
   "source": [
    "lastOperationDF.select(\"version\",\"timestamp\",\"operation\",\"operationParameters\",\"readVersion\").show(20)"
   ]
  },
  {
   "cell_type": "code",
   "execution_count": null,
   "metadata": {},
   "outputs": [],
   "source": []
  }
 ],
 "metadata": {
  "kernelspec": {
   "display_name": "Apache Toree - Scala",
   "language": "scala",
   "name": "apache_toree_scala"
  },
  "language_info": {
   "codemirror_mode": "text/x-scala",
   "file_extension": ".scala",
   "mimetype": "text/x-scala",
   "name": "scala",
   "pygments_lexer": "scala",
   "version": "2.11.12"
  }
 },
 "nbformat": 4,
 "nbformat_minor": 2
}
